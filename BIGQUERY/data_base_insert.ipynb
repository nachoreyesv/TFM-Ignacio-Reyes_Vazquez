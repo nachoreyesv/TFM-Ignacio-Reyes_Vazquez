{
 "cells": [
  {
   "cell_type": "code",
   "execution_count": 1,
   "metadata": {},
   "outputs": [],
   "source": [
    "import pandas as pd\n",
    "import os\n",
    "from google.cloud import bigquery\n",
    "\n",
    "# Configuración de rutas\n",
    "data_folder = \"../../TFM/22_23_24/recuperaciones\"\n",
    "project_id = \"banded-setting-428309-q4\"\n",
    "dataset_id = \"datos\"\n",
    "table_id = \"recuperaciones-data\""
   ]
  },
  {
   "cell_type": "code",
   "execution_count": 2,
   "metadata": {},
   "outputs": [],
   "source": [
    "# Configuración de cliente de BigQuery\n",
    "client = bigquery.Client(project=project_id)"
   ]
  },
  {
   "cell_type": "code",
   "execution_count": 3,
   "metadata": {},
   "outputs": [],
   "source": [
    "# Función para cargar datos en BigQuery\n",
    "def load_data_to_bigquery(df, table_id):\n",
    "    job_config = bigquery.LoadJobConfig(\n",
    "        schema=[\n",
    "            bigquery.SchemaField(\"Timestamp\", \"TIMESTAMP\"),\n",
    "            bigquery.SchemaField(\"Value\", \"FLOAT\"),\n",
    "            bigquery.SchemaField(\"Tag\", \"STRING\"),\n",
    "        ],\n",
    "        write_disposition=bigquery.WriteDisposition.WRITE_APPEND,\n",
    "    )\n",
    "\n",
    "    try:\n",
    "        load_job = client.load_table_from_dataframe(df, table_id, job_config=job_config)\n",
    "        load_job.result()  # Esperar a que la carga termine\n",
    "        print(f\"Carga completada para la tabla {table_id}\")\n",
    "    except Exception as e:\n",
    "        print(f\"Error al cargar los datos en BigQuery: {e}\")"
   ]
  },
  {
   "cell_type": "code",
   "execution_count": 4,
   "metadata": {},
   "outputs": [
    {
     "name": "stdout",
     "output_type": "stream",
     "text": [
      "Archivos en la carpeta de datos: ['recup_1.csv', 'recup_2.csv']\n",
      "Archivo recup_1.csv cargado.\n",
      "Carga completada para la tabla banded-setting-428309-q4.datos.recuperaciones-data\n",
      "Archivo recup_2.csv cargado.\n",
      "Carga completada para la tabla banded-setting-428309-q4.datos.recuperaciones-data\n"
     ]
    }
   ],
   "source": [
    "# Verificar si la carpeta de datos existe\n",
    "if os.path.exists(data_folder):\n",
    "    print(f\"Archivos en la carpeta de datos: {os.listdir(data_folder)}\")\n",
    "    for file in os.listdir(data_folder):\n",
    "        if file.endswith(\".csv\"):\n",
    "            file_path = os.path.join(data_folder, file)\n",
    "            df = pd.read_csv(file_path)\n",
    "            if all(column in df.columns for column in [\"Timestamp\", \"Value\", \"Tag\"]):\n",
    "                print(f\"Archivo {file} cargado.\")\n",
    "                try:\n",
    "                    df[\"Timestamp\"] = pd.to_datetime(df[\"Timestamp\"], format=\"%d-%b-%y %H:%M:%S.%f\")\n",
    "                    load_data_to_bigquery(df, f\"{project_id}.{dataset_id}.{table_id}\")\n",
    "                except Exception as e:\n",
    "                    print(f\"Error al procesar el archivo {file}: {e}\")\n",
    "            else:\n",
    "                print(f\"Archivo {file} no contiene las columnas requeridas y no se guardó.\")\n",
    "else:\n",
    "    print(f\"La carpeta de datos no existe: {data_folder}\")"
   ]
  }
 ],
 "metadata": {
  "kernelspec": {
   "display_name": "Python 3",
   "language": "python",
   "name": "python3"
  },
  "language_info": {
   "codemirror_mode": {
    "name": "ipython",
    "version": 3
   },
   "file_extension": ".py",
   "mimetype": "text/x-python",
   "name": "python",
   "nbconvert_exporter": "python",
   "pygments_lexer": "ipython3",
   "version": "3.10.11"
  }
 },
 "nbformat": 4,
 "nbformat_minor": 2
}
