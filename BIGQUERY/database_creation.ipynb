{
 "cells": [
  {
   "cell_type": "code",
   "execution_count": 40,
   "metadata": {},
   "outputs": [],
   "source": [
    "import pandas as pd\n",
    "import os\n",
    "import sqlite3\n",
    "\n",
    "data_folder = \"./data/values\"\n",
    "database_path = \"./database/database.sqlite\"\n",
    "\n",
    "conn = sqlite3.connect(database_path)\n",
    "cursor = conn.cursor()"
   ]
  },
  {
   "cell_type": "code",
   "execution_count": 41,
   "metadata": {},
   "outputs": [],
   "source": [
    "table_name = \"Machine_Values\""
   ]
  },
  {
   "cell_type": "code",
   "execution_count": 42,
   "metadata": {},
   "outputs": [
    {
     "data": {
      "text/plain": [
       "<sqlite3.Cursor at 0x15e8361d740>"
      ]
     },
     "execution_count": 42,
     "metadata": {},
     "output_type": "execute_result"
    }
   ],
   "source": [
    "cursor.execute(f\"\"\"\n",
    "CREATE TABLE IF NOT EXISTS {table_name} (\n",
    "    Timestamp DATETIME,\n",
    "    Value REAL,\n",
    "    Tag TEXT\n",
    ")\n",
    "\"\"\")"
   ]
  },
  {
   "cell_type": "code",
   "execution_count": 43,
   "metadata": {},
   "outputs": [
    {
     "name": "stdout",
     "output_type": "stream",
     "text": [
      "files in data folder are ['ago2019_1.csv', 'ago2019_2.csv', 'ago2019_3.csv', 'apr2019_1.csv', 'apr2019_2.csv', 'apr2019_3.csv', 'apr2020_1.csv', 'apr2020_2.csv', 'apr2020_3.csv', 'apr2021_1.csv', 'apr2021_2.csv', 'apr2021_3.csv', 'aug2020_1.csv', 'aug2020_2.csv', 'aug2020_3.csv', 'aug2021_1.csv', 'aug2021_2.csv', 'aug2021_3.csv', 'dec2019_1.csv', 'dec2019_2.csv', 'dec2019_3.csv', 'dec2020_1.csv', 'dec2020_2.csv', 'dec2020_3.csv', 'dec2021_1.csv', 'dec2021_2.csv', 'dec2021_3.csv', 'ene2019_1.csv', 'ene2019_2.csv', 'ene2019_3.csv', 'feb2019_1.csv', 'feb2019_2.csv', 'feb2019_3.csv', 'feb2020_1.csv', 'feb2020_2.csv', 'feb2020_3.csv', 'feb2021_1.csv', 'feb2021_2.csv', 'feb2021_3.csv', 'jan2020_1.csv', 'jan2020_2.csv', 'jan2020_3.csv', 'jan2021_1.csv', 'jan2021_2.csv', 'jan2021_3.csv', 'jul2019_1.csv', 'jul2019_2.csv', 'jul2019_3.csv', 'jul2020_1.csv', 'jul2020_2.csv', 'jul2020_3.csv', 'jul2021_1.csv', 'jul2021_2.csv', 'jul2021_3.csv', 'jun2019_1.csv', 'jun2019_2.csv', 'jun2019_3.csv', 'jun2020_1.csv', 'jun2020_2.csv', 'jun2020_3.csv', 'jun2021_1.csv', 'jun2021_2.csv', 'jun2021_3.csv', 'mar2019_1.csv', 'mar2019_2.csv', 'mar2019_3.csv', 'mar2020_1.csv', 'mar2020_2.csv', 'mar2020_3.csv', 'mar2021_1.csv', 'mar2021_2.csv', 'mar2021_3.csv', 'may2019_1.csv', 'may2019_2.csv', 'may2019_3.csv', 'may2020_1.csv', 'may2020_2.csv', 'may2020_3.csv', 'may2021_1.csv', 'may2021_2.csv', 'may2021_3.csv', 'nov2019_1.csv', 'nov2019_2.csv', 'nov2019_3.csv', 'nov2020_1.csv', 'nov2020_2.csv', 'nov2020_3.csv', 'nov2021_1.csv', 'nov2021_2.csv', 'nov2021_3.csv', 'oct2019_1.csv', 'oct2019_2.csv', 'oct2019_3.csv', 'oct2020_1.csv', 'oct2020_2.csv', 'oct2020_3.csv', 'oct2021_1.csv', 'oct2021_2.csv', 'oct2021_3.csv', 'sep2019_1.csv', 'sep2019_2.csv', 'sep2019_3.csv', 'sep2020_1.csv', 'sep2020_2.csv', 'sep2020_3.csv', 'sep2021_1.csv', 'sep2021_2.csv', 'sep2021_3.csv']\n"
     ]
    }
   ],
   "source": [
    "print(f\"files in data folder are {os.listdir(data_folder)}\")"
   ]
  },
  {
   "cell_type": "code",
   "execution_count": 44,
   "metadata": {},
   "outputs": [
    {
     "name": "stdout",
     "output_type": "stream",
     "text": [
      "File ago2019_1.csv loaded.\n",
      "File ago2019_2.csv loaded.\n",
      "File ago2019_3.csv loaded.\n",
      "File apr2019_1.csv loaded.\n",
      "File apr2019_2.csv loaded.\n",
      "File apr2019_3.csv loaded.\n",
      "File apr2020_1.csv loaded.\n",
      "File apr2020_2.csv loaded.\n",
      "File apr2020_3.csv loaded.\n",
      "File apr2021_1.csv loaded.\n",
      "File apr2021_2.csv loaded.\n",
      "File apr2021_3.csv loaded.\n",
      "File aug2020_1.csv loaded.\n",
      "File aug2020_2.csv loaded.\n",
      "File aug2020_3.csv loaded.\n",
      "File aug2021_1.csv loaded.\n",
      "File aug2021_2.csv loaded.\n",
      "File aug2021_3.csv loaded.\n",
      "File dec2019_1.csv loaded.\n",
      "File dec2019_2.csv loaded.\n",
      "File dec2019_3.csv loaded.\n",
      "File dec2020_1.csv loaded.\n",
      "File dec2020_2.csv loaded.\n",
      "File dec2020_3.csv loaded.\n",
      "File dec2021_1.csv loaded.\n",
      "File dec2021_2.csv loaded.\n",
      "File dec2021_3.csv loaded.\n",
      "File ene2019_1.csv loaded.\n",
      "File ene2019_2.csv loaded.\n",
      "File ene2019_3.csv loaded.\n",
      "File feb2019_1.csv loaded.\n",
      "File feb2019_2.csv loaded.\n",
      "File feb2019_3.csv loaded.\n",
      "File feb2020_1.csv loaded.\n",
      "File feb2020_2.csv loaded.\n",
      "File feb2020_3.csv loaded.\n",
      "File feb2021_1.csv loaded.\n",
      "File feb2021_2.csv loaded.\n",
      "File feb2021_3.csv loaded.\n",
      "File jan2020_1.csv loaded.\n",
      "File jan2020_2.csv loaded.\n",
      "File jan2020_3.csv loaded.\n",
      "File jan2021_1.csv loaded.\n",
      "File jan2021_2.csv loaded.\n",
      "File jan2021_3.csv loaded.\n",
      "File jul2019_1.csv loaded.\n",
      "File jul2019_2.csv loaded.\n",
      "File jul2019_3.csv loaded.\n",
      "File jul2020_1.csv loaded.\n",
      "File jul2020_2.csv loaded.\n",
      "File jul2020_3.csv loaded.\n",
      "File jul2021_1.csv loaded.\n",
      "File jul2021_2.csv loaded.\n",
      "File jul2021_3.csv loaded.\n",
      "File jun2019_1.csv loaded.\n",
      "File jun2019_2.csv loaded.\n",
      "File jun2019_3.csv loaded.\n",
      "File jun2020_1.csv loaded.\n",
      "File jun2020_2.csv loaded.\n",
      "File jun2020_3.csv loaded.\n",
      "File jun2021_1.csv loaded.\n",
      "File jun2021_2.csv loaded.\n",
      "File jun2021_3.csv loaded.\n",
      "File mar2019_1.csv loaded.\n",
      "File mar2019_2.csv loaded.\n",
      "File mar2019_3.csv loaded.\n",
      "File mar2020_1.csv loaded.\n",
      "File mar2020_2.csv loaded.\n",
      "File mar2020_3.csv loaded.\n",
      "File mar2021_1.csv loaded.\n",
      "File mar2021_2.csv loaded.\n",
      "File mar2021_3.csv loaded.\n",
      "File may2019_1.csv loaded.\n",
      "File may2019_2.csv loaded.\n",
      "File may2019_3.csv loaded.\n",
      "File may2020_1.csv loaded.\n",
      "File may2020_2.csv loaded.\n",
      "File may2020_3.csv loaded.\n",
      "File may2021_1.csv loaded.\n",
      "File may2021_2.csv loaded.\n",
      "File may2021_3.csv loaded.\n",
      "File nov2019_1.csv loaded.\n",
      "File nov2019_2.csv loaded.\n",
      "File nov2019_3.csv loaded.\n",
      "File nov2020_1.csv loaded.\n",
      "File nov2020_2.csv loaded.\n",
      "File nov2020_3.csv loaded.\n",
      "File nov2021_1.csv loaded.\n",
      "File nov2021_2.csv loaded.\n",
      "File nov2021_3.csv loaded.\n",
      "File oct2019_1.csv loaded.\n",
      "File oct2019_2.csv loaded.\n",
      "File oct2019_3.csv loaded.\n",
      "File oct2020_1.csv loaded.\n",
      "File oct2020_2.csv loaded.\n",
      "File oct2020_3.csv loaded.\n",
      "File oct2021_1.csv loaded.\n",
      "File oct2021_2.csv loaded.\n",
      "File oct2021_3.csv loaded.\n",
      "File sep2019_1.csv loaded.\n",
      "File sep2019_2.csv loaded.\n",
      "File sep2019_3.csv loaded.\n",
      "File sep2020_1.csv loaded.\n",
      "File sep2020_2.csv loaded.\n",
      "File sep2020_3.csv loaded.\n",
      "File sep2021_1.csv loaded.\n",
      "File sep2021_2.csv loaded.\n",
      "File sep2021_3.csv loaded.\n"
     ]
    }
   ],
   "source": [
    "for file in os.listdir(data_folder):\n",
    "    if file.endswith(\".csv\"):\n",
    "        file_path = os.path.join(data_folder, file)\n",
    "        df = pd.read_csv(file_path)\n",
    "        if all(column in df.columns for column in [\"Timestamp\", \"Value\", \"Tag\"]):\n",
    "            print(f\"File {file} loaded.\")\n",
    "            df[\"Timestamp\"] = pd.to_datetime(df[\"Timestamp\"], format=\"%d-%b-%y %H:%M:%S.%f\")\n",
    "            df[\"Timestamp\"] = df[\"Timestamp\"].astype(str)\n",
    "            for row in df.itertuples(index=False):\n",
    "                cursor.execute(f\"\"\"\n",
    "                INSERT INTO {table_name} (Timestamp, Value, Tag) VALUES (?, ?, ?)\n",
    "                \"\"\", (row.Timestamp, row.Value, row.Tag))\n",
    "        else:\n",
    "            print(f\"File {file} does not contain the required columns and was not saved.\")"
   ]
  },
  {
   "cell_type": "code",
   "execution_count": 45,
   "metadata": {},
   "outputs": [],
   "source": [
    "conn.commit()\n",
    "conn.close()"
   ]
  }
 ],
 "metadata": {
  "kernelspec": {
   "display_name": "Python 3",
   "language": "python",
   "name": "python3"
  },
  "language_info": {
   "codemirror_mode": {
    "name": "ipython",
    "version": 3
   },
   "file_extension": ".py",
   "mimetype": "text/x-python",
   "name": "python",
   "nbconvert_exporter": "python",
   "pygments_lexer": "ipython3",
   "version": "3.11.9"
  }
 },
 "nbformat": 4,
 "nbformat_minor": 2
}
