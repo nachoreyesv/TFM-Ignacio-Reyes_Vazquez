{
 "cells": [
  {
   "cell_type": "markdown",
   "metadata": {},
   "source": [
    "# FIX COLUMNA_TAG"
   ]
  },
  {
   "cell_type": "code",
   "execution_count": 28,
   "metadata": {},
   "outputs": [],
   "source": [
    "import pandas as pd\n",
    "import numpy as np\n",
    "import sqlite3\n",
    "\n",
    "df = pd.read_excel(\"columna_tag.xlsx\", header=1)\n",
    "\n",
    "database_path = \"../database/database.sqlite\"\n",
    "\n",
    "conn = sqlite3.connect(database_path)\n",
    "cursor = conn.cursor()"
   ]
  },
  {
   "cell_type": "code",
   "execution_count": 29,
   "metadata": {},
   "outputs": [
    {
     "data": {
      "text/html": [
       "<div>\n",
       "<style scoped>\n",
       "    .dataframe tbody tr th:only-of-type {\n",
       "        vertical-align: middle;\n",
       "    }\n",
       "\n",
       "    .dataframe tbody tr th {\n",
       "        vertical-align: top;\n",
       "    }\n",
       "\n",
       "    .dataframe thead th {\n",
       "        text-align: right;\n",
       "    }\n",
       "</style>\n",
       "<table border=\"1\" class=\"dataframe\">\n",
       "  <thead>\n",
       "    <tr style=\"text-align: right;\">\n",
       "      <th></th>\n",
       "      <th>tag</th>\n",
       "      <th>descripcion</th>\n",
       "      <th>sI/NO</th>\n",
       "    </tr>\n",
       "  </thead>\n",
       "  <tbody>\n",
       "    <tr>\n",
       "      <th>0</th>\n",
       "      <td>P#LS0313_LTCB72</td>\n",
       "      <td>NIVEL 1 TORTA P45 H0</td>\n",
       "      <td>NaN</td>\n",
       "    </tr>\n",
       "    <tr>\n",
       "      <th>1</th>\n",
       "      <td>P#LS0313_LTCB73</td>\n",
       "      <td>NIVEL 2 TORTA P45 H0</td>\n",
       "      <td>NaN</td>\n",
       "    </tr>\n",
       "    <tr>\n",
       "      <th>2</th>\n",
       "      <td>P#LS0714_LTEB70</td>\n",
       "      <td>NIVEL ANION A-11</td>\n",
       "      <td>NaN</td>\n",
       "    </tr>\n",
       "    <tr>\n",
       "      <th>3</th>\n",
       "      <td>P#LS0714_LTEA70</td>\n",
       "      <td>NIVEL ANION A-9</td>\n",
       "      <td>NaN</td>\n",
       "    </tr>\n",
       "    <tr>\n",
       "      <th>4</th>\n",
       "      <td>P#LS3319_LTAM74</td>\n",
       "      <td>NIVEL ANIÓN GRUPO 10</td>\n",
       "      <td>NaN</td>\n",
       "    </tr>\n",
       "  </tbody>\n",
       "</table>\n",
       "</div>"
      ],
      "text/plain": [
       "               tag           descripcion sI/NO\n",
       "0  P#LS0313_LTCB72  NIVEL 1 TORTA P45 H0   NaN\n",
       "1  P#LS0313_LTCB73  NIVEL 2 TORTA P45 H0   NaN\n",
       "2  P#LS0714_LTEB70      NIVEL ANION A-11   NaN\n",
       "3  P#LS0714_LTEA70       NIVEL ANION A-9   NaN\n",
       "4  P#LS3319_LTAM74  NIVEL ANIÓN GRUPO 10   NaN"
      ]
     },
     "execution_count": 29,
     "metadata": {},
     "output_type": "execute_result"
    }
   ],
   "source": [
    "df.head()"
   ]
  },
  {
   "cell_type": "code",
   "execution_count": 30,
   "metadata": {},
   "outputs": [
    {
     "data": {
      "text/plain": [
       "(402, 3)"
      ]
     },
     "execution_count": 30,
     "metadata": {},
     "output_type": "execute_result"
    }
   ],
   "source": [
    "df.shape"
   ]
  },
  {
   "cell_type": "code",
   "execution_count": 31,
   "metadata": {},
   "outputs": [],
   "source": [
    "important = {\n",
    "    \"P#LE3008_DTOBE72\": \"COT AGUAS ÁCIDAS NUEVO\",\n",
    "    \"P#LE3009_DTBE71\": \"COT AGUAS ÁCIDAS\",\n",
    "    \"P#LE3009_DTBE72\": \"COR TITÁNIC AZÚCARES\",\n",
    "    \"P#LE3008_DTOBE73\": \"COT TITÁNIC AZÚCARES NUEVO\",\n",
    "}\n",
    "\n",
    "df[\"descripcion\"] = df[\"tag\"].map(important).fillna(df[\"descripcion\"])"
   ]
  },
  {
   "cell_type": "code",
   "execution_count": 32,
   "metadata": {},
   "outputs": [],
   "source": [
    "df = df.drop_duplicates(subset=\"tag\")"
   ]
  },
  {
   "cell_type": "code",
   "execution_count": 33,
   "metadata": {},
   "outputs": [
    {
     "data": {
      "text/plain": [
       "(373, 3)"
      ]
     },
     "execution_count": 33,
     "metadata": {},
     "output_type": "execute_result"
    }
   ],
   "source": [
    "df.shape"
   ]
  },
  {
   "cell_type": "code",
   "execution_count": 34,
   "metadata": {},
   "outputs": [
    {
     "name": "stdout",
     "output_type": "stream",
     "text": [
      "Number of duplicated descriptions: 19\n",
      "Duplicated descriptions and their counts:\n",
      "descripcion\n",
      "W10 STATUS                       3\n",
      "NIVEL CUBA E06                   2\n",
      "W7 STATUS                        2\n",
      "PRESION SDA FILTRO GAF SDA W8    2\n",
      "NIVEL CUBA SDF                   2\n",
      "NIVEL G1                         2\n",
      "% VF BOMBA ALIMENTACION W7       2\n",
      "NIVEL CUBA H                     2\n",
      "NIVEL ANIÓN GRUPO 4              2\n",
      "Name: count, dtype: int64\n"
     ]
    }
   ],
   "source": [
    "duplicate_counts = df[\"descripcion\"].value_counts()\n",
    "duplicates = duplicate_counts[duplicate_counts > 1]\n",
    "\n",
    "print(\"Number of duplicated descriptions:\", duplicates.sum())\n",
    "print(\"Duplicated descriptions and their counts:\")\n",
    "print(duplicates)"
   ]
  },
  {
   "cell_type": "code",
   "execution_count": 35,
   "metadata": {},
   "outputs": [
    {
     "data": {
      "text/plain": [
       "<sqlite3.Cursor at 0x277be1e7240>"
      ]
     },
     "execution_count": 35,
     "metadata": {},
     "output_type": "execute_result"
    }
   ],
   "source": [
    "table_name = \"columna_tag\"\n",
    "\n",
    "cursor.execute(f\"DROP TABLE IF EXISTS {table_name}\")\n",
    "\n",
    "cursor.execute(\n",
    "    f\"\"\"\n",
    "CREATE TABLE IF NOT EXISTS {table_name} (\n",
    "    tag TEXT,\n",
    "    descripcion TEXT,\n",
    "    sI_NO TEXT\n",
    ")\n",
    "\"\"\"\n",
    ")"
   ]
  },
  {
   "cell_type": "code",
   "execution_count": 36,
   "metadata": {},
   "outputs": [
    {
     "data": {
      "text/plain": [
       "373"
      ]
     },
     "execution_count": 36,
     "metadata": {},
     "output_type": "execute_result"
    }
   ],
   "source": [
    "df.to_sql(table_name, conn, if_exists=\"replace\", index=False)"
   ]
  },
  {
   "cell_type": "code",
   "execution_count": 37,
   "metadata": {},
   "outputs": [],
   "source": [
    "conn.commit()\n",
    "conn.close()"
   ]
  }
 ],
 "metadata": {
  "kernelspec": {
   "display_name": "Python 3",
   "language": "python",
   "name": "python3"
  },
  "language_info": {
   "codemirror_mode": {
    "name": "ipython",
    "version": 3
   },
   "file_extension": ".py",
   "mimetype": "text/x-python",
   "name": "python",
   "nbconvert_exporter": "python",
   "pygments_lexer": "ipython3",
   "version": "3.11.9"
  }
 },
 "nbformat": 4,
 "nbformat_minor": 2
}
